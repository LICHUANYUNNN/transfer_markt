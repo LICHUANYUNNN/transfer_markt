{
 "cells": [
  {
   "cell_type": "code",
   "execution_count": null,
   "metadata": {},
   "outputs": [],
   "source": [
    "import unittest\n",
    "from selenium import webdriver\n",
    "from selenium.webdriver.common.keys import Keys\n",
    "import pandas as pd \n",
    "browser = webdriver.Chrome(\"C:\\Program Files (x86)\\Google\\Chrome\\Application\\chromedriver.exe\")"
   ]
  },
  {
   "cell_type": "code",
   "execution_count": null,
   "metadata": {},
   "outputs": [],
   "source": [
    "browser.get('https://www.transfermarkt.co.uk/liverpool-fc/kader/verein/31/saison_id/2018/plus/1')\n",
    "browser.implicitly_wait(3)\n",
    "goal_element = browser.find_element_by_xpath('//*[@id=\"yw1\"]/table/tfoot/tr/td[4]') \n",
    "goal = goal_element.text\n",
    "assist_element = assist.find_element_by_xpath('//*[@id=\"yw1\"]/table/tfoot/tr/td[5]') \n",
    "assist = goal_element.text\n",
    "\n",
    "//*[@id=\"yw1\"]/table/tfoot/tr/td[4]\n",
    "//*[@id=\"yw1\"]/table/tfoot/tr/td[5]"
   ]
  }
 ],
 "metadata": {
  "kernelspec": {
   "display_name": "Python 3",
   "language": "python",
   "name": "python3"
  },
  "language_info": {
   "codemirror_mode": {
    "name": "ipython",
    "version": 3
   },
   "file_extension": ".py",
   "mimetype": "text/x-python",
   "name": "python",
   "nbconvert_exporter": "python",
   "pygments_lexer": "ipython3",
   "version": "3.7.1"
  }
 },
 "nbformat": 4,
 "nbformat_minor": 2
}
